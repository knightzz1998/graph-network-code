{
 "cells": [
  {
   "cell_type": "markdown",
   "metadata": {
    "collapsed": true,
    "pycharm": {
     "name": "#%% md\n"
    }
   },
   "source": [
    "## Data类——PyG中图的表示及其使用"
   ]
  },
  {
   "cell_type": "markdown",
   "source": [
    "Data 类对象的创建\n",
    "\n",
    "- [torch_geometric.data.Data](https://pytorch-geometric.readthedocs.io/en/latest/modules/data.html#torch_geometric.data.Data)\n",
    "- [PyG-01 数据预处理-torch_geometric.data.Data](https://zhuanlan.zhihu.com/p/310008493)"
   ],
   "metadata": {
    "collapsed": false
   }
  },
  {
   "cell_type": "code",
   "execution_count": 1,
   "outputs": [],
   "source": [
    "# Data类的构造函数\n",
    "class Data(object):\n",
    "    def __init__(self, x=None, edge_index=None, edge_attr=None, y=None, **kwargs):\n",
    "        pass"
   ],
   "metadata": {
    "collapsed": false,
    "pycharm": {
     "name": "#%%\n"
    }
   }
  },
  {
   "cell_type": "markdown",
   "source": [
    "从上面代码可以看到 :\n",
    "\n",
    "x (Tensor, optional): 节点属性矩阵，大小为 [num_nodes, num_node_features]\n",
    "\n",
    "edge_index (LongTensor, optional): 边索引矩阵，大小为[2, num_edges],第 0 行可称为头（head）节点、源（source）节点、邻接节点，第 1 行可称为尾（tail）节点、目标（target）节点、中心节点\n",
    "\n",
    "edge_attr (Tensor, optional): 边属性矩阵，大小为 [num_edges, num_edge_features]\n",
    "\n",
    "y (Tensor, optional): 节点或图的标签，任意大小（，其实也可以是 边的标签）\n",
    "\n",
    "----\n",
    "\n",
    "edge_index的每一列定义一条边，其中第一行为边起始节点的索引，第二行为边结 束节点的索引。这种表示方法被称为COO格式（coordinate format），通常用于表示稀疏矩阵。PyG不是用稠密矩阵 来持有邻接矩阵的信息，而是用仅存储邻接矩阵 中非 元素的稀疏矩阵来表示图"
   ],
   "metadata": {
    "collapsed": false
   }
  },
  {
   "cell_type": "markdown",
   "source": [
    "通常，一个图至少包含x, edge_index, edge_attr, y, num_nodes5个属性，当图包含其他属性时，我们可以通过指定额外的参数使Data对象包含其他的属性：\n",
    "\n",
    "graph = Data(x=x, edge_index=edge_index, edge_attr=edge_attr, y=y, num_nodes=num_nodes, other_attr=other_attr)"
   ],
   "metadata": {
    "collapsed": false
   }
  },
  {
   "cell_type": "markdown",
   "source": [
    "### 将字典对象转换为图对象\n",
    "\n",
    "graph_dict中属性值的类型与大小的要求与Data类的构造函数的要求相同。"
   ],
   "metadata": {
    "collapsed": false
   }
  },
  {
   "cell_type": "code",
   "execution_count": 11,
   "outputs": [
    {
     "name": "stdout",
     "output_type": "stream",
     "text": [
      "Data(x=[2000, 4000], edge_index=[2, 100], edge_attr=[100, 4000], y=[100], num_nodes=2000)\n"
     ]
    }
   ],
   "source": [
    "import numpy as np\n",
    "from numpy.random import randn\n",
    "from torch_geometric.data import Data\n",
    "\n",
    "# 定义节点相关数据\n",
    "num_nodes = 2000\n",
    "num_node_features = 4000\n",
    "num_edges = 100\n",
    "\n",
    "# 定义字典对象\n",
    "graph_dict = {\n",
    "    'x': randn(num_nodes, num_node_features),\n",
    "    'edge_index': randn(2, num_edges),\n",
    "    'edge_attr': randn(num_edges, num_node_features),\n",
    "    'y': randn(num_edges),\n",
    "    'num_nodes': num_nodes\n",
    "}\n",
    "\n",
    "graph_data = Data.from_dict(graph_dict)\n",
    "print(graph_data)"
   ],
   "metadata": {
    "collapsed": false,
    "pycharm": {
     "name": "#%%\n"
    }
   }
  },
  {
   "cell_type": "markdown",
   "source": [
    "### Data对象转换成其他类型数据\n",
    "\n",
    "我们可以将Data对象转换为dict对象 : def to_dict(self):\n",
    "\n",
    "\n",
    "或转换为namedtuple: def to_namedtuple(self):"
   ],
   "metadata": {
    "collapsed": false
   }
  },
  {
   "cell_type": "code",
   "execution_count": 12,
   "outputs": [
    {
     "name": "stdout",
     "output_type": "stream",
     "text": [
      "{'x': array([[-0.18383904, -1.27269283, -0.15412519, ...,  1.63401477,\n",
      "        -0.17532242,  1.94666253],\n",
      "       [-0.66667775,  0.21520124, -0.22754876, ...,  0.56780496,\n",
      "        -1.04730827, -0.29289741],\n",
      "       [ 0.14410923, -0.11216208, -0.52833767, ...,  0.59874052,\n",
      "         0.18328994, -1.42832704],\n",
      "       ...,\n",
      "       [-1.41866019, -0.96120221,  0.05341647, ...,  0.19675187,\n",
      "         2.17890509,  0.74425714],\n",
      "       [ 0.13748206,  0.93249476,  2.52298628, ..., -0.36223269,\n",
      "         1.5105656 , -1.52687794],\n",
      "       [ 0.38289949, -0.50212704, -0.13747089, ..., -0.53512506,\n",
      "        -1.72477264, -0.19663631]]), 'edge_index': array([[ 7.51578957e-01,  7.77123854e-01,  5.39323688e-01,\n",
      "        -8.03574606e-01,  5.63711569e-01,  1.18263288e+00,\n",
      "         8.51821904e-01, -1.09069428e+00,  8.48613991e-01,\n",
      "        -5.75848445e-01, -2.00594947e+00,  1.69680727e+00,\n",
      "        -2.21673881e-01, -2.81111602e-01, -1.25727911e+00,\n",
      "         2.92224061e-01, -6.47489461e-03,  1.40943514e+00,\n",
      "         2.27778869e+00,  6.18154067e-01,  1.64872105e+00,\n",
      "        -1.66759123e-01,  2.52267256e+00, -1.16199535e+00,\n",
      "         2.43581346e+00, -1.23628843e-03,  5.28712895e-01,\n",
      "         7.38286026e-01,  2.59317591e-01, -2.61251982e-01,\n",
      "        -1.00643098e+00,  1.45672457e-03, -1.04762261e+00,\n",
      "        -1.21310358e-02,  9.78507627e-01,  5.65405871e-04,\n",
      "         1.29899069e+00, -6.97694927e-01, -5.96407708e-01,\n",
      "        -7.38395562e-01,  4.29134885e-02, -8.78430343e-01,\n",
      "        -5.40138238e-01,  1.46378531e-01, -1.52027844e+00,\n",
      "         1.50339982e+00, -3.30711304e-02,  4.10399741e-01,\n",
      "         4.30145767e-01, -7.54781466e-01,  1.35575082e+00,\n",
      "         8.44321815e-01, -8.13470919e-01,  8.12669130e-02,\n",
      "        -1.51624896e+00,  4.55023937e-01, -1.13763186e+00,\n",
      "        -1.42396049e-01,  1.36287430e-01, -1.17018757e+00,\n",
      "        -6.72148140e-01, -9.54976584e-01, -7.90740110e-01,\n",
      "         3.99887592e-01,  7.27981069e-01, -1.54614476e-01,\n",
      "        -5.34636833e-01, -1.72284221e+00, -5.50501980e-01,\n",
      "        -4.54460933e-01,  1.35721288e+00,  1.44880181e+00,\n",
      "        -1.00270884e+00, -7.40561460e-01, -4.90025164e-01,\n",
      "         1.85791440e-01, -2.50167049e-01,  1.64547444e+00,\n",
      "        -1.16539600e+00, -5.75712865e-02, -2.25461671e+00,\n",
      "         8.77760218e-01, -4.79866811e-01,  3.16849455e-01,\n",
      "        -1.98620696e-01,  8.12771695e-01,  1.18890740e+00,\n",
      "         1.51418436e+00,  8.57665149e-02,  9.59600822e-01,\n",
      "         4.35617215e-01, -8.78930833e-01, -6.22668847e-01,\n",
      "         4.26265594e-02,  4.35136933e-01, -5.63649492e-01,\n",
      "         1.01148449e+00, -9.75090202e-02, -1.44212960e+00,\n",
      "        -3.76099385e-01],\n",
      "       [-2.92085819e-01, -6.53110668e-01, -5.91636817e-01,\n",
      "        -9.94827524e-01,  1.68751545e+00, -1.03821119e-01,\n",
      "        -4.87728310e-01, -4.21425358e-01, -9.41756536e-01,\n",
      "        -9.75819824e-01, -6.64564201e-01, -4.55090664e-01,\n",
      "         1.92933355e-01, -7.48007928e-01, -2.12907902e-02,\n",
      "         7.02238352e-01, -2.49564974e-01,  3.44947683e-01,\n",
      "        -6.83149913e-01, -1.53230628e+00,  3.02280648e-01,\n",
      "        -5.52589596e-01, -2.34945458e-01,  3.33575369e-01,\n",
      "         2.19388904e-03, -8.85242568e-02,  1.11532199e+00,\n",
      "         1.43638355e-01, -5.96540976e-01, -2.44439955e-01,\n",
      "         4.96469195e-01,  2.34941362e-01,  1.98071830e-01,\n",
      "         1.41268383e+00,  2.96279018e-01, -3.08197777e-01,\n",
      "         8.73016911e-01,  7.60400897e-01, -7.93540274e-01,\n",
      "        -1.98804198e-01, -1.94576613e+00,  1.29097185e+00,\n",
      "        -7.94925500e-01, -5.02596166e-01, -5.91093295e-01,\n",
      "        -2.64586446e-01, -5.26177348e-01,  1.00229591e+00,\n",
      "         8.51248576e-01,  2.38975533e+00, -1.29511042e+00,\n",
      "        -5.78405665e-01, -3.80944134e-01,  1.09051799e+00,\n",
      "        -5.88174145e-01, -1.26372993e+00, -1.70414781e+00,\n",
      "        -1.16812154e+00,  8.81840147e-01,  1.22850765e+00,\n",
      "         1.27296385e+00,  9.87525066e-01,  3.23175344e-01,\n",
      "        -4.63733019e-01, -7.25672839e-01,  2.77843811e-01,\n",
      "         6.68192702e-01, -1.00059756e+00,  1.29949494e+00,\n",
      "         6.54199819e-02, -5.67787783e-01, -2.22290489e-01,\n",
      "        -1.21014581e-01, -2.70083658e-01, -1.00303571e+00,\n",
      "        -1.09807880e+00, -1.74499291e+00,  1.57584256e+00,\n",
      "         3.65545669e-03, -2.00706127e-01, -5.72140129e-01,\n",
      "        -3.76872229e-02, -9.87809444e-01, -3.47620676e-01,\n",
      "         3.48603057e-03,  9.97637470e-01, -1.70384305e-01,\n",
      "        -6.37696591e-01,  5.16506172e-01,  2.51487596e-01,\n",
      "        -7.18501955e-01, -3.38222632e-01, -3.71847009e-01,\n",
      "        -4.95027893e-02, -1.55250041e-01,  8.69950099e-01,\n",
      "         1.22053390e+00, -4.23899012e-01,  5.34695505e-01,\n",
      "         1.22871288e+00]]), 'edge_attr': array([[-0.13381358,  0.97210183,  1.47862832, ...,  0.03790184,\n",
      "         0.62323113,  1.03621406],\n",
      "       [ 1.38141323, -0.26743378, -0.3009787 , ...,  0.06760539,\n",
      "        -0.92651499, -0.42809913],\n",
      "       [ 0.42093884, -0.18067885,  0.81339149, ..., -1.29265231,\n",
      "         0.38859934, -0.74887303],\n",
      "       ...,\n",
      "       [-0.86509238,  0.00563701, -0.46294301, ..., -0.95231173,\n",
      "        -1.04369039,  0.13641719],\n",
      "       [ 0.16298882,  1.96551384, -1.55333246, ...,  0.86356877,\n",
      "        -0.08886059, -0.25835807],\n",
      "       [-0.5423216 ,  1.36325937,  0.46942745, ...,  1.0482709 ,\n",
      "         0.06421498, -0.79519348]]), 'y': array([-0.07412798,  0.08542422, -1.26283574,  2.02320726,  0.37332492,\n",
      "        0.34455514, -1.00534284,  1.42410684, -0.51573027,  0.50749459,\n",
      "       -0.64239005, -1.28327862, -1.03593034, -0.78629407,  0.98898472,\n",
      "       -1.08257456,  0.49612174, -2.03646576, -0.49645616,  1.14018207,\n",
      "        0.20609845, -1.1222418 , -0.27943028,  0.89273821, -0.04949173,\n",
      "        0.62796562,  0.87231532,  0.68656607,  0.17998487, -0.44156915,\n",
      "       -0.90310794, -0.67270282,  0.96755385,  1.07009719,  0.92750044,\n",
      "       -0.61519282,  1.65745709,  0.4094708 ,  1.80487114,  1.10645528,\n",
      "        1.15216074,  0.90072637, -0.04400912,  1.63448692,  0.97671204,\n",
      "        0.63652608, -0.45354988, -0.20556208, -0.06864414,  0.69587805,\n",
      "        0.61827931, -0.63796641, -0.54564565,  1.04262415,  1.03984531,\n",
      "       -1.64520303,  0.01006575, -0.24216838, -0.63386887, -0.77014605,\n",
      "       -0.44516142,  0.56017779,  0.07583092,  0.48316709,  0.51228327,\n",
      "        0.94622551,  0.12008021, -0.23800742,  0.29992989,  0.0403672 ,\n",
      "       -1.2443552 , -2.52278731, -0.09053616, -1.03427183,  0.69738916,\n",
      "        0.89870062,  1.81125439, -1.65183795, -1.08698277,  3.2398085 ,\n",
      "       -0.58713067, -0.01725996,  1.22248181, -0.50332276,  0.63892817,\n",
      "       -0.68149403, -3.45531048,  1.19365409, -1.81923243,  0.02461947,\n",
      "        2.0577058 ,  0.4908134 ,  0.93881761, -0.8036489 ,  2.72747563,\n",
      "        1.22075213, -0.08155558, -0.24774582,  0.18870137, -0.34576888]), 'num_nodes': 2000}\n"
     ]
    }
   ],
   "source": [
    "data_dict = Data.to_dict(graph_data)\n",
    "print(data_dict)"
   ],
   "metadata": {
    "collapsed": false,
    "pycharm": {
     "name": "#%%\n"
    }
   }
  },
  {
   "cell_type": "markdown",
   "source": [
    "### Data属性相关"
   ],
   "metadata": {
    "collapsed": false
   }
  },
  {
   "cell_type": "code",
   "execution_count": 13,
   "outputs": [
    {
     "name": "stdout",
     "output_type": "stream",
     "text": [
      "(2000, 4000)\n"
     ]
    }
   ],
   "source": [
    "# 获取Data的属性\n",
    "x = graph_data['x']\n",
    "print(x.shape)"
   ],
   "metadata": {
    "collapsed": false,
    "pycharm": {
     "name": "#%%\n"
    }
   }
  },
  {
   "cell_type": "code",
   "execution_count": 16,
   "outputs": [
    {
     "name": "stdout",
     "output_type": "stream",
     "text": [
      "['x', 'edge_index', 'edge_attr', 'y', 'num_nodes']\n"
     ]
    }
   ],
   "source": [
    "# 获取Data属性包含的关键字\n",
    "print(graph_data.keys)"
   ],
   "metadata": {
    "collapsed": false,
    "pycharm": {
     "name": "#%%\n"
    }
   }
  },
  {
   "cell_type": "code",
   "execution_count": 19,
   "outputs": [],
   "source": [
    "# 对边排序并移除重复的边\n",
    "# graph_data.coalesce()"
   ],
   "metadata": {
    "collapsed": false,
    "pycharm": {
     "name": "#%%\n"
    }
   }
  },
  {
   "cell_type": "markdown",
   "source": [
    "### 图的其他特质"
   ],
   "metadata": {
    "collapsed": false
   }
  },
  {
   "cell_type": "code",
   "execution_count": 21,
   "outputs": [
    {
     "name": "stdout",
     "output_type": "stream",
     "text": [
      "查看图的个数 : 1\n"
     ]
    }
   ],
   "source": [
    "# 导入已有的数据集\n",
    "from torch_geometric.datasets import KarateClub\n",
    "\n",
    "datasets = KarateClub()\n",
    "print(\"查看图的个数 : {}\".format(len(datasets)))"
   ],
   "metadata": {
    "collapsed": false,
    "pycharm": {
     "name": "#%%\n"
    }
   }
  },
  {
   "cell_type": "code",
   "execution_count": 32,
   "outputs": [
    {
     "name": "stdout",
     "output_type": "stream",
     "text": [
      "Data(x=[34, 34], edge_index=[2, 156], y=[34], train_mask=[34])\n",
      "图的节点数量 : 34\n",
      "图的节点属性的维度 : 34\n",
      "同样是节点属性的维度 : 34\n",
      "图的边的数量 : 156\n",
      "边属性的维度 : 0\n",
      "平均节点度 : 4.588235294117647\n",
      "用作训练集的节点数 4\n",
      "用作训练集的节点数占比 0.11764705882352941\n",
      "此图是否包含孤立的节点 False\n",
      "此图是否包含自环的边 False\n",
      "此图是否是无向图 True\n"
     ]
    },
    {
     "name": "stderr",
     "output_type": "stream",
     "text": [
      "D:\\DevApp\\anaconda3\\envs\\Graph_Network\\lib\\site-packages\\torch_geometric\\deprecation.py:13: UserWarning: 'contains_isolated_nodes' is deprecated, use 'has_isolated_nodes' instead\n",
      "  warnings.warn(out)\n",
      "D:\\DevApp\\anaconda3\\envs\\Graph_Network\\lib\\site-packages\\torch_geometric\\deprecation.py:13: UserWarning: 'contains_self_loops' is deprecated, use 'has_self_loops' instead\n",
      "  warnings.warn(out)\n"
     ]
    }
   ],
   "source": [
    "# 获取第一张图\n",
    "data = datasets[0]\n",
    "print(data)\n",
    "# 获取图的相关信息\n",
    "print(\"图的节点数量 : {}\".format(data.num_nodes))\n",
    "print(\"图的节点属性的维度 : {}\".format(data.num_node_features))\n",
    "print(\"同样是节点属性的维度 : {}\".format(data.num_features))\n",
    "print(\"图的边的数量 : {}\".format(data.num_edges))\n",
    "print(\"边属性的维度 : {}\".format(data.num_edge_features))\n",
    "print(\"平均节点度 : {}\".format(data.num_edges / data.num_nodes))\n",
    "print(\"用作训练集的节点数 {}\".format(data.train_mask.sum()))\n",
    "print(\"用作训练集的节点数占比 {}\".format(int(data.train_mask.sum()) / data.num_nodes))\n",
    "print(\"此图是否包含孤立的节点 {}\".format(data.contains_isolated_nodes()))\n",
    "print(\"此图是否包含自环的边 {}\".format(data.contains_self_loops()))\n",
    "print(\"此图是否是无向图 {}\".format(data.is_undirected()))"
   ],
   "metadata": {
    "collapsed": false,
    "pycharm": {
     "name": "#%%\n"
    }
   }
  },
  {
   "cell_type": "code",
   "execution_count": null,
   "outputs": [],
   "source": [],
   "metadata": {
    "collapsed": false,
    "pycharm": {
     "name": "#%%\n"
    }
   }
  }
 ],
 "metadata": {
  "kernelspec": {
   "display_name": "Python 3",
   "language": "python",
   "name": "python3"
  },
  "language_info": {
   "codemirror_mode": {
    "name": "ipython",
    "version": 2
   },
   "file_extension": ".py",
   "mimetype": "text/x-python",
   "name": "python",
   "nbconvert_exporter": "python",
   "pygments_lexer": "ipython2",
   "version": "2.7.6"
  }
 },
 "nbformat": 4,
 "nbformat_minor": 0
}