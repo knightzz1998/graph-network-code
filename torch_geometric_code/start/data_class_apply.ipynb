{
 "cells": [
  {
   "cell_type": "markdown",
   "metadata": {
    "collapsed": true,
    "pycharm": {
     "name": "#%% md\n"
    }
   },
   "source": [
    "## Data类——PyG中图的表示及其使用"
   ]
  },
  {
   "cell_type": "markdown",
   "source": [
    "Data 类对象的创建\n",
    "\n",
    "- [torch_geometric.data.Data](https://pytorch-geometric.readthedocs.io/en/latest/modules/data.html#torch_geometric.data.Data)\n",
    "- [PyG-01 数据预处理-torch_geometric.data.Data](https://zhuanlan.zhihu.com/p/310008493)"
   ],
   "metadata": {
    "collapsed": false
   }
  },
  {
   "cell_type": "code",
   "execution_count": 2,
   "outputs": [],
   "source": [
    "# Data类的构造函数\n",
    "class Data(object):\n",
    "    def __init__(self, x=None, edge_index=None, edge_attr=None, y=None, **kwargs):\n",
    "        pass"
   ],
   "metadata": {
    "collapsed": false,
    "pycharm": {
     "name": "#%%\n"
    }
   }
  },
  {
   "cell_type": "markdown",
   "source": [
    "从上面代码可以看到 :\n",
    "\n",
    "x (Tensor, optional): 节点属性矩阵，大小为 [num_nodes, num_node_features]\n",
    "\n",
    "edge_index (LongTensor, optional): 边索引矩阵，大小为[2, num_edges],第 0 行可称为头（head）节点、源（source）节点、邻接节点，第 1 行可称为尾（tail）节点、目标（target）节点、中心节点\n",
    "\n",
    "edge_attr (Tensor, optional): 边属性矩阵，大小为 [num_edges, num_edge_features]\n",
    "\n",
    "y (Tensor, optional): 节点或图的标签，任意大小（，其实也可以是 边的标签）\n",
    "\n",
    "----\n",
    "\n",
    "edge_index的每一列定义一条边，其中第一行为边起始节点的索引，第二行为边结 束节点的索引。这种表示方法被称为COO格式（coordinate format），通常用于表示稀疏矩阵。PyG不是用稠密矩阵 来持有邻接矩阵的信息，而是用仅存储邻接矩阵 中非 元素的稀疏矩阵来表示图"
   ],
   "metadata": {
    "collapsed": false
   }
  },
  {
   "cell_type": "markdown",
   "source": [
    "通常，一个图至少包含x, edge_index, edge_attr, y, num_nodes5个属性，当图包含其他属性时，我们可以通过指定额外的参数使Data对象包含其他的属性：\n",
    "\n",
    "graph = Data(x=x, edge_index=edge_index, edge_attr=edge_attr, y=y, num_nodes=num_nodes, other_attr=other_attr)"
   ],
   "metadata": {
    "collapsed": false
   }
  },
  {
   "cell_type": "markdown",
   "source": [
    "### 将字典对象转换为图对象"
   ],
   "metadata": {
    "collapsed": false
   }
  },
  {
   "cell_type": "code",
   "execution_count": null,
   "outputs": [],
   "source": [
    "import numpy as np\n",
    "from numpy.random import randn\n",
    "\n",
    "# 定义节点相关数据\n",
    "num_nodes = 2000\n",
    "num_node_features = 4000\n",
    "num_edges = 100\n",
    "\n",
    "# 定义字典对象\n"
   ],
   "metadata": {
    "collapsed": false,
    "pycharm": {
     "name": "#%%\n"
    }
   }
  }
 ],
 "metadata": {
  "kernelspec": {
   "display_name": "Python 3",
   "language": "python",
   "name": "python3"
  },
  "language_info": {
   "codemirror_mode": {
    "name": "ipython",
    "version": 2
   },
   "file_extension": ".py",
   "mimetype": "text/x-python",
   "name": "python",
   "nbconvert_exporter": "python",
   "pygments_lexer": "ipython2",
   "version": "2.7.6"
  }
 },
 "nbformat": 4,
 "nbformat_minor": 0
}