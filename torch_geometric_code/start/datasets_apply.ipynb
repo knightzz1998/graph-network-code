{
 "cells": [
  {
   "cell_type": "markdown",
   "metadata": {
    "collapsed": true,
    "pycharm": {
     "name": "#%% md\n"
    }
   },
   "source": [
    "## Dataset类——PyG中图数据集的表示及其使用\n",
    "\n",
    "Planetoid数据集类的官方文档为 [torch_geometric.datasets.Planetoid](https://pytorch-geometric.readthedocs.io/en/latest/modules/datasets.html#torch_geometric.datasets.Planetoid)"
   ]
  },
  {
   "cell_type": "markdown",
   "source": [
    "### 生成数据集对象并分析数据集\n",
    "\n",
    "如下方代码所示，在PyG中生成一个数据集是简单直接的。在第一次生成PyG内置 的数据集时，程序首先下载原始文件，然后将原始文件处理成包含Data对象的 Dataset对象并保存到文件"
   ],
   "metadata": {
    "collapsed": false
   }
  },
  {
   "cell_type": "code",
   "execution_count": null,
   "outputs": [],
   "source": [],
   "metadata": {
    "collapsed": false,
    "pycharm": {
     "name": "#%%\n"
    }
   }
  }
 ],
 "metadata": {
  "kernelspec": {
   "display_name": "Python 3",
   "language": "python",
   "name": "python3"
  },
  "language_info": {
   "codemirror_mode": {
    "name": "ipython",
    "version": 2
   },
   "file_extension": ".py",
   "mimetype": "text/x-python",
   "name": "python",
   "nbconvert_exporter": "python",
   "pygments_lexer": "ipython2",
   "version": "2.7.6"
  }
 },
 "nbformat": 4,
 "nbformat_minor": 0
}