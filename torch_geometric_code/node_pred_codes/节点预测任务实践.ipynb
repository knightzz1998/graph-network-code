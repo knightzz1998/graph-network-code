{
 "cells": [
  {
   "cell_type": "markdown",
   "metadata": {
    "collapsed": true,
    "pycharm": {
     "name": "#%% md\n"
    }
   },
   "source": [
    "### 节点预测任务实践\n",
    "\n",
    "在此小节我们将利用的Planetoid的PubMed数据集, 来实践节点预测与边预测任务。\n",
    "\n",
    "- [节点预测任务详解](https://zhuanlan.zhihu.com/p/427732420)"
   ]
  },
  {
   "cell_type": "markdown",
   "source": [
    "### 定义GAT\n",
    "\n",
    "- 定义可以通过使用参数确定 GATConv 层数和 out_channel 的网络"
   ],
   "metadata": {
    "collapsed": false
   }
  },
  {
   "cell_type": "code",
   "execution_count": 2,
   "outputs": [
    {
     "data": {
      "text/plain": "'1.10.2'"
     },
     "execution_count": 2,
     "metadata": {},
     "output_type": "execute_result"
    }
   ],
   "source": [
    "import torch.nn as nn\n",
    "import torch\n",
    "import torch.functional as F\n",
    "from torch_geometric.nn import GATConv, Sequential\n",
    "from torch_geometric.datasets import Planetoid\n",
    "from torch_geometric.transforms import NormalizeFeatures\n",
    "\n",
    "torch.__version__"
   ],
   "metadata": {
    "collapsed": false,
    "pycharm": {
     "name": "#%%\n"
    }
   }
  },
  {
   "cell_type": "code",
   "execution_count": null,
   "outputs": [],
   "source": [
    "class GAT(nn.Module):\n",
    "    def __init__(self, input_features, num_classes, hidden_channels_list):\n",
    "        \"\"\"\n",
    "        :param input_features: 数据集的特征数量\n",
    "        :param num_classes: 图的类别数\n",
    "        :param hidden_channels:\n",
    "        \"\"\"\n",
    "        super(GAT, self).__init__()\n",
    "        # 设置随机数种子\n",
    "        torch.manual_seed(12345)\n",
    "        # 拼接输入特征数和隐藏层数 : [input_features, hidden_channel , ...]\n",
    "        hns = [input_features] + hidden_channels_list\n",
    "        conv_list = []\n",
    "        #\n",
    "        for idx in range(len(hidden_channels_list)):\n",
    "            # [input_features, hidden_channels_1]\n",
    "            # [hidden_channels_1, hidden_channels_2]\n",
    "            # ...\n",
    "            # [hidden_channels_n-1, hidden_channels_n]\n",
    "            conv_list.append((GATConv(in_channels=hns[idx], out_channels=hns[idx+1]),'x, edge_index -> x'))\n",
    "\n",
    "        # 整合 多层网络\n",
    "        self.conv_seq = Sequential('x, edge_index', conv_list)\n",
    "        # linear\n",
    "        self.linear = nn.Linear(hidden_channels_list[-1], num_classes) # [input_features, num_classes]\n",
    "\n",
    "    def forward(self, x, edge_index):\n",
    "        x = self.conv_seq(x, edge_index)\n",
    "        x = F.dropout(x, p=0.5, training=self.training)\n",
    "        x = self.linear(x)\n",
    "        return x"
   ],
   "metadata": {
    "collapsed": false,
    "pycharm": {
     "name": "#%%\n"
    }
   }
  }
 ],
 "metadata": {
  "kernelspec": {
   "display_name": "Python 3",
   "language": "python",
   "name": "python3"
  },
  "language_info": {
   "codemirror_mode": {
    "name": "ipython",
    "version": 2
   },
   "file_extension": ".py",
   "mimetype": "text/x-python",
   "name": "python",
   "nbconvert_exporter": "python",
   "pygments_lexer": "ipython2",
   "version": "2.7.6"
  }
 },
 "nbformat": 4,
 "nbformat_minor": 0
}