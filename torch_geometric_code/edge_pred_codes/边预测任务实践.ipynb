{
 "cells": [
  {
   "cell_type": "markdown",
   "metadata": {
    "collapsed": true,
    "pycharm": {
     "name": "#%% md\n"
    }
   },
   "source": [
    "### 边预测任务实践\n",
    "边预测任务，目标是预测两个节点之间是否存在边。拿到一个图数据集，\n",
    "我们有节点属性x，边端点edge_index 。edge_index 存储的便是正样本。为了构建边预测任务，我们需要生成一些负样本，即采样一些不存在\n",
    "边的节点对作为负样本边，正负样本数量应平衡。此外要将样本分为训练集、验证集和测试集三个集合"
   ]
  },
  {
   "cell_type": "markdown",
   "source": [
    "PyG中为我们提供了现成的采样负样本边的方法，\n",
    "train_test_split_edges(data, val_ratio=0.05, test_ratio=0.1)，其\n",
    "\n",
    "第一个参数为torch_geometric.data.Data对象，\n",
    "第二参数为验证集所占比例，\n",
    "第三个参数为测试集所占比例。\n",
    "\n",
    "该函数将自动地采样得到负样本，并将正负样本分成训练集、验证集和测\n",
    "\n",
    "试集三个集合。它用train_pos_edge_index 、train_neg_adj_mask、 val_pos_edge_index、val_neg_edge_index、test_pos_edge_index 和test_neg_edge_index ，六个属性取代edge_index 属性。\n",
    "注意train_neg_adj_mask与其他属性格式不同，其实该属性在后面并没\n",
    "有派上用场，后面我们仍然需要进行一次训练集负样本采样"
   ],
   "metadata": {
    "collapsed": false
   }
  },
  {
   "cell_type": "markdown",
   "source": [
    "### 获取数据集并实践\n",
    "使用Cora数据集作为例子，进行边预测任务说明"
   ],
   "metadata": {
    "collapsed": false
   }
  },
  {
   "cell_type": "code",
   "execution_count": 1,
   "outputs": [
    {
     "name": "stdout",
     "output_type": "stream",
     "text": [
      "torch.Size([2, 10556])\n"
     ]
    }
   ],
   "source": [
    "import os.path as osp\n",
    "from torch_geometric.utils import negative_sampling\n",
    "from torch_geometric.datasets import Planetoid\n",
    "import torch_geometric.transforms as T\n",
    "from torch_geometric.utils import train_test_split_edges\n",
    "\n",
    "# 加载数据集\n",
    "dataset = Planetoid(root='K:/CodeWorkSpace/DeeplApp/graph-network-code/datasets',\n",
    "                    name='Cora', transform=T.NormalizeFeatures())\n",
    "data = dataset[0]\n",
    "# 不在使用节点属性，只使用边属性\n",
    "data.train_mask = data.val_mask = data.test_mask = None\n",
    "# 打印边的形状\n",
    "print(data.edge_index.shape)"
   ],
   "metadata": {
    "collapsed": false,
    "pycharm": {
     "name": "#%%\n"
    }
   }
  },
  {
   "cell_type": "code",
   "execution_count": 2,
   "outputs": [
    {
     "name": "stdout",
     "output_type": "stream",
     "text": [
      "val_neg_edge_index torch.Size([2, 263])\n",
      "y torch.Size([2708])\n",
      "val_pos_edge_index torch.Size([2, 263])\n",
      "x torch.Size([2708, 1433])\n",
      "test_neg_edge_index torch.Size([2, 527])\n",
      "train_neg_adj_mask torch.Size([2708, 2708])\n",
      "train_pos_edge_index torch.Size([2, 8976])\n",
      "test_pos_edge_index torch.Size([2, 527])\n"
     ]
    },
    {
     "name": "stderr",
     "output_type": "stream",
     "text": [
      "D:\\DevApp\\anaconda3\\envs\\Graph_Network\\lib\\site-packages\\torch_geometric\\deprecation.py:13: UserWarning: 'train_test_split_edges' is deprecated, use 'transforms.RandomLinkSplit' instead\n",
      "  warnings.warn(out)\n"
     ]
    }
   ],
   "source": [
    "# 将边分为训练集、验证集和测试集\n",
    "data = train_test_split_edges(data)\n",
    "\n",
    "# 打印所有边的信息\n",
    "for key in data.keys:\n",
    "    print(key, getattr(data, key).shape)"
   ],
   "metadata": {
    "collapsed": false,
    "pycharm": {
     "name": "#%%\n"
    }
   }
  },
  {
   "cell_type": "markdown",
   "source": [
    "我们观察到训练集、验证集和测试集中正样本边的数量之和不等于原始边\n",
    "的数量。这是因为，现在所用的Cora图是无向图，在统计原始边数量时，\n",
    "每一条边的正向与反向各统计了一次，训练集也包含边的正向与反向，但\n",
    "验证集与测试集都只包含了边的一个方向"
   ],
   "metadata": {
    "collapsed": false
   }
  },
  {
   "cell_type": "markdown",
   "source": [
    "为什么训练集要包含边的正向与反向，而验证集与测试集都只包含了边的\n",
    "一个方向？\n",
    "\n",
    "这是因为，训练集用于训练，训练时一条边的两个端点要互传信息，只考虑一个方向的话，只能由一个端点传信息给另一个端点\n",
    "而验证集与测试集的边用于衡量检验边预测的准确性，只需考虑一个方向的边即可。"
   ],
   "metadata": {
    "collapsed": false
   }
  },
  {
   "cell_type": "markdown",
   "source": [
    "### 构造边预测神经网络\n",
    "\n",
    "节点表征 : 节点的特征表示\n",
    "参考 : https://zhuanlan.zhihu.com/p/306261981\n",
    "\n",
    "Graph的特征表示极为复杂，主要表现在以下三个方面：\n",
    "\n",
    "极其复杂的拓扑结构，很难简单地像图像中的感受野来提取有效信息；\n",
    "无特定的节点顺序；\n",
    "通常graph会是动态变化的， 且使用多模态特征；"
   ],
   "metadata": {
    "collapsed": false
   }
  },
  {
   "cell_type": "code",
   "execution_count": 3,
   "outputs": [],
   "source": [
    "import torch\n",
    "import torch.nn as nn\n",
    "from torch_geometric.nn import GCNConv\n",
    "\n",
    "\n",
    "class EdgeNet(nn.Module):\n",
    "\n",
    "    def __init__(self, in_channels, out_channels):\n",
    "        \"\"\"\n",
    "        :param in_channels:\n",
    "        :param out_channels:\n",
    "        \"\"\"\n",
    "        super(EdgeNet, self).__init__()\n",
    "        self.conv1 = GCNConv(in_channels=in_channels, out_channels=128)\n",
    "        self.conv2 = GCNConv(in_channels=128, out_channels=out_channels)\n",
    "\n",
    "    def encode(self, x, edge_index):\n",
    "        \"\"\"\n",
    "        生成节点表征(节点的特征表示)\n",
    "        :param x: 节点矩阵 [2708, 1433]\n",
    "        :param edge_index: 边下标 [2, ]\n",
    "        :return:\n",
    "        \"\"\"\n",
    "        x = self.conv1(x, edge_index)\n",
    "        x = x.relu()\n",
    "        x = self.conv2(x, edge_index)\n",
    "        return x\n",
    "\n",
    "    def decode(self, z, pos_edge_index, neg_edge_index):\n",
    "        \"\"\"\n",
    "        根据边两端节点的表征生成边为真的几率（odds）\n",
    "        :param z:\n",
    "        :param pos_edge_index: 例如 : [2, 527]\n",
    "        :param neg_edge_index: 例如 : [2, 527]\n",
    "        :return:\n",
    "        \"\"\"\n",
    "        # 拼接正向边和负向边\n",
    "        edge_index = torch.cat([pos_edge_index, neg_edge_index], dim=-1) # [2, 1054]\n",
    "        return z[edge_index[0]] * z[edge_index[1]].sum(dim=-1) #\n",
    "\n",
    "    def decode_all(self, z):\n",
    "        \"\"\"\n",
    "        推理阶段 : 对所有的节点预测存在边的几率\n",
    "        :param z:\n",
    "        :return:\n",
    "        \"\"\"\n",
    "        # 矩阵相乘\n",
    "        prob_obj = z @ z.t()\n",
    "        return (prob_obj > 0).nozero(as_tuple=False).t()\n"
   ],
   "metadata": {
    "collapsed": false,
    "pycharm": {
     "name": "#%%\n"
    }
   }
  },
  {
   "cell_type": "markdown",
   "source": [
    "### 边预测图神经网络的训练\n"
   ],
   "metadata": {
    "collapsed": false
   }
  },
  {
   "cell_type": "code",
   "execution_count": 4,
   "outputs": [],
   "source": [
    "import torch.functional as F\n",
    "\n",
    "# 定义单个epoch训练过程\n",
    "def get_link_label(pos_edge_index, neg_edge_index):\n",
    "    \"\"\"\n",
    "    函数用于生成完整训练集的标签。\n",
    "    :param pos_edge_index:\n",
    "    :param neg_edge_index:\n",
    "    :return:\n",
    "    \"\"\"\n",
    "    # 统计正向边和负向边的数量\n",
    "    num_links = pos_edge_index.size(1) + neg_edge_index.size(1)\n",
    "    # 获取节点标签\n",
    "    link_labels = torch.zeros(num_links, dtype=torch.float)\n",
    "    link_labels[:pos_edge_index.size(1)] = 1\n",
    "    return link_labels\n",
    "\n",
    "def train(data, model, optimizer):\n",
    "    model.train()\n",
    "    # 负向采样\n",
    "    neg_edge_index = negative_sampling(edge_index=data.train_pos_edge_index,\n",
    "                                       num_nodes=data.num_nodes,\n",
    "                                       num_neg_samples=data.train_pos_edge_index)\n",
    "    # 梯度归零\n",
    "    optimizer.zero_grad()\n",
    "    # 编码器, 生成节点表征\n",
    "    z = model.encode(data.x, data.train_pos_edge_index)\n",
    "\n",
    "    # TODO : ??????\n",
    "\n",
    "    # 解码\n",
    "    link_logits = model.decode(z, data.train_pos_edge_index, neg_edge_index)\n",
    "    #\n",
    "    link_labels = get_link_label(data.train_pos_edge_index, neg_edge_index).to(data.x.device)\n",
    "    # 计算目标和输入之间的二进制交叉熵\n",
    "    loss = F.binary_cross_entropy_with_logits(link_logits, link_labels)\n",
    "    loss.backward()\n",
    "    optimizer.step()\n",
    "    return loss\n"
   ],
   "metadata": {
    "collapsed": false,
    "pycharm": {
     "name": "#%%\n"
    }
   }
  },
  {
   "cell_type": "markdown",
   "source": [
    "通常，存在边的节点对的数量往往少于不存在边的节点对的数量。\n",
    "\n",
    "我们在每一个epoch的训练过程中，都进行一次训练集负样本采样。\n",
    "\n",
    "采样到的样本数量与训练集正样本相同，但不同epoch中采样到的样本是不同的。\n",
    "\n",
    "这样做，我们既能实现类别数量平衡，又能实现增加训练集负样本的多样性。\n",
    "\n",
    "在负样本采样时，我们传递了train_pos_edge_index 为参数，\n",
    "于是negative_sampling() 函数只会在训练集中不存在边的节点对中采样。\n",
    "\n",
    "get_link_labels() 函数用于生成完整训练集的标签。\n",
    "注：在训练阶段，我们应该只见训练集，对验证集与测试集都是不可见的。\n",
    "\n",
    "所以我们没有使用所有的边，而是只用了训练集正样本边。定义单个epoch验证与测试过程"
   ],
   "metadata": {
    "collapsed": false
   }
  },
  {
   "cell_type": "code",
   "execution_count": null,
   "outputs": [],
   "source": [],
   "metadata": {
    "collapsed": false,
    "pycharm": {
     "name": "#%%\n"
    }
   }
  }
 ],
 "metadata": {
  "kernelspec": {
   "display_name": "Python 3",
   "language": "python",
   "name": "python3"
  },
  "language_info": {
   "codemirror_mode": {
    "name": "ipython",
    "version": 2
   },
   "file_extension": ".py",
   "mimetype": "text/x-python",
   "name": "python",
   "nbconvert_exporter": "python",
   "pygments_lexer": "ipython2",
   "version": "2.7.6"
  }
 },
 "nbformat": 4,
 "nbformat_minor": 0
}